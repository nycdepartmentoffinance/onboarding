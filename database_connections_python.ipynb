{
 "cells": [
  {
   "cell_type": "markdown",
   "metadata": {},
   "source": [
    "# Database Connections through Python\n",
    "\n",
    "The DOF Property Modeling Team utilizes a range of databases and tools to store and analyze data.\n",
    "\n",
    "This [diagram](resources/data_workflow.jpg) gives a high-level overview of how these different data resources and tools are used together.\n",
    "\n",
    "## How can you access these data resources in Python?\n",
    "\n",
    "There are currently two different database tools that are used: Microsoft SQL Server and Oracle databases. Even though we'll be using the same tools to connect to them, creating the connections with these two different systems requires slightly different syntax and credentials.\n",
    "\n",
    "### Connecting to Microsoft SQL Server Databases (Production, Test, Sandbox)\n",
    "\n",
    "We can establish a direct connection to Microsoft SQL Server using existing Python packages, which link to the database using our credentials, allowing us to query the Production, Test, and Sandbox databases.\n",
    "\n",
    "To do this, you first need to import two python packages (`python-dotenv` and `pyodbc`) locally. Note: you only need to do this once and you can do this using pip or conda."
   ]
  },
  {
   "cell_type": "code",
   "execution_count": 2,
   "metadata": {
    "vscode": {
     "languageId": "shellscript"
    }
   },
   "outputs": [
    {
     "ename": "SyntaxError",
     "evalue": "invalid syntax (3489418517.py, line 1)",
     "output_type": "error",
     "traceback": [
      "\u001b[1;36m  Cell \u001b[1;32mIn[2], line 1\u001b[1;36m\u001b[0m\n\u001b[1;33m    python -m pip install python-dotenv\u001b[0m\n\u001b[1;37m              ^\u001b[0m\n\u001b[1;31mSyntaxError\u001b[0m\u001b[1;31m:\u001b[0m invalid syntax\n"
     ]
    }
   ],
   "source": [
    "# in the command prompt\n",
    "\n",
    "#python -m pip install python-dotenv\n",
    "#python -m pip install pyodbc"
   ]
  },
  {
   "cell_type": "markdown",
   "metadata": {},
   "source": [
    "Once these two packages are installed, you can establish a database connection using the credentials for the production, test, or sandbox databases. For future use, I'll save the credentials for all of these databases to my local `.Renviron` file saved in my HOME directory (detailed instructions on this file [here](proxy_R.md)). Add the following to your `.Renviron` file, replacing the XXXs with the correct credentials.\n",
    "\n",
    "```\n",
    "#replace the following with the real credentials\n",
    "test_server=\"XXX.XXX.XX.XXX\"\n",
    "test_database='V8_XXXXXXXXXXXXXXXXXXX'\n",
    "test_username=\"XXXXX\"\n",
    "test_password=\"XXXXX\"\n",
    "\n",
    "production_server=\"XXX.XXX.XX.XXX\"\n",
    "production_database='V8_XXXXXXXXXXXXXXXXXXX'\n",
    "production_username=\"XXXXX\"\n",
    "production_password=\"XXXXX\"\n",
    "\n",
    "sandbox_server=\"XXX.XXX.XX.XXX\"\n",
    "sandbox_database='V8_XXXXXXXXXXXXXXXXXXX'\n",
    "sandbox_username=\"XXXXX\"\n",
    "sandbox_password=\"XXXXX\"\n",
    "```"
   ]
  },
  {
   "cell_type": "markdown",
   "metadata": {},
   "source": [
    "Now that you're credentials are saved locally, restart your kernel (at the top of the screen select the Restart button) and read in your environmental variables by using the dotenv functionality below.\n",
    "\n",
    "Note: you should change the filepath to include your username."
   ]
  },
  {
   "cell_type": "code",
   "execution_count": 2,
   "metadata": {},
   "outputs": [
    {
     "data": {
      "text/plain": [
       "True"
      ]
     },
     "execution_count": 2,
     "metadata": {},
     "output_type": "execute_result"
    }
   ],
   "source": [
    "from dotenv import load_dotenv, find_dotenv\n",
    "\n",
    "load_dotenv(find_dotenv(\"C:/Users/BoydClaire/.Renviron\"))"
   ]
  },
  {
   "cell_type": "markdown",
   "metadata": {},
   "source": [
    "To check if we can read in our environmental variables successfully, you can try the following:"
   ]
  },
  {
   "cell_type": "code",
   "execution_count": 3,
   "metadata": {},
   "outputs": [
    {
     "data": {
      "text/plain": [
       "'V8_NEWYORK_NY_TEST_LIVE_NOV2024'"
      ]
     },
     "execution_count": 3,
     "metadata": {},
     "output_type": "execute_result"
    }
   ],
   "source": [
    "import os\n",
    "os.getenv('test_database')"
   ]
  },
  {
   "cell_type": "markdown",
   "metadata": {},
   "source": [
    "The result should be a string of the test_database name. If not, make sure you are using the right filepath above to read in your environmental variables.\n",
    "\n",
    "Next, I'll use the pyobdc package to create a connection to the Microsoft SQL Server database as follows:"
   ]
  },
  {
   "cell_type": "code",
   "execution_count": 4,
   "metadata": {},
   "outputs": [],
   "source": [
    "import pyodbc\n",
    "\n",
    "# choose which database you want to connect to (assumes you have \"{database}_server\", \"{database}_database\", \"{database}_username\", and \"{database}_password\" as environmental variables in your .Renviron file)\n",
    "database = \"test\"\n",
    "\n",
    "# build connection string\n",
    "connection_args = [\"Driver={SQL Server};\",\n",
    "                    f\"SERVER={os.environ[f'{database}_server']};\",\n",
    "                    f\"DATABASE={os.environ[f'{database}_database']};\",\n",
    "                    f\"UID={os.environ[f'{database}_username']};\",\n",
    "                    f\"PWD={os.environ[f'{database}_password']};\",\n",
    "                    f\"Trusted_Connection=no;\",\n",
    "                    \"Port=1433\"\n",
    "]\n",
    "connection_string = \"\".join(connection_args)\n",
    "\n",
    "# create connection object\n",
    "cnxn = pyodbc.connect(connection_string)"
   ]
  },
  {
   "cell_type": "markdown",
   "metadata": {},
   "source": [
    "With the database connection in place, we can begin constructing our queries. Let's start with a basic one."
   ]
  },
  {
   "cell_type": "code",
   "execution_count": 5,
   "metadata": {},
   "outputs": [],
   "source": [
    "query = \"SELECT TOP 100 * FROM REAL_PROP.REALMAST\""
   ]
  },
  {
   "cell_type": "markdown",
   "metadata": {},
   "source": [
    "Now that we have saved the query as a string, we can use it to query the database and store the result as a dataframe in our local python environment. To do this, we can use the [`read_sql()`](https://pandas.pydata.org/docs/reference/api/pandas.read_sql.html) function from pandas, providing the database connection and the query string we wish to execute. If you dont already have pandas installed, install it by running the following in your powershell: `conda install pandas`."
   ]
  },
  {
   "cell_type": "code",
   "execution_count": 6,
   "metadata": {},
   "outputs": [],
   "source": [
    "import pandas as pd\n",
    "\n",
    "# read in data with query and connection\n",
    "realmast_top100 = pd.read_sql(sql=query, con=cnxn)"
   ]
  },
  {
   "cell_type": "markdown",
   "metadata": {},
   "source": [
    "Let's take a look at what data we got back."
   ]
  },
  {
   "cell_type": "code",
   "execution_count": 8,
   "metadata": {},
   "outputs": [
    {
     "data": {
      "text/html": [
       "<div>\n",
       "<style scoped>\n",
       "    .dataframe tbody tr th:only-of-type {\n",
       "        vertical-align: middle;\n",
       "    }\n",
       "\n",
       "    .dataframe tbody tr th {\n",
       "        vertical-align: top;\n",
       "    }\n",
       "\n",
       "    .dataframe thead th {\n",
       "        text-align: right;\n",
       "    }\n",
       "</style>\n",
       "<table border=\"1\" class=\"dataframe\">\n",
       "  <thead>\n",
       "    <tr style=\"text-align: right;\">\n",
       "      <th></th>\n",
       "      <th>REM_MNC</th>\n",
       "      <th>REM_PID</th>\n",
       "      <th>REM_PIN</th>\n",
       "      <th>REM_OWN_NAME</th>\n",
       "      <th>REM_ACCT_NUM</th>\n",
       "      <th>REM_PRCL_LOCN</th>\n",
       "      <th>REM_PRCL_LOCN_STR_PFX</th>\n",
       "      <th>REM_PRCL_LOCN_STREET</th>\n",
       "      <th>REM_PRCL_LOCN_STR_SFX</th>\n",
       "      <th>REM_PRCL_LOCN_NUM</th>\n",
       "      <th>...</th>\n",
       "      <th>REM_PRCL_LOCN_POST_DIRECTION</th>\n",
       "      <th>REM_PRCL_LOCN_PRE_DIRECTION</th>\n",
       "      <th>REM_PRCL_LOCN_STREET_TYPE</th>\n",
       "      <th>REM_PRCL_LOCN_APT_TYPE</th>\n",
       "      <th>REM_USRFLD</th>\n",
       "      <th>REM_USRFLD_DESC</th>\n",
       "      <th>REM_PRCL_LOCN_ADDRESS_ID</th>\n",
       "      <th>REM_BLOCK_SUFFIX</th>\n",
       "      <th>REM_PROPERTY_TYPE</th>\n",
       "      <th>REM_PROPERTY_TYPE_DESC</th>\n",
       "    </tr>\n",
       "  </thead>\n",
       "  <tbody>\n",
       "    <tr>\n",
       "      <th>0</th>\n",
       "      <td>9000.0</td>\n",
       "      <td>1.0</td>\n",
       "      <td></td>\n",
       "      <td>GOVERNORS ISLAND CORPORATION</td>\n",
       "      <td>1000010010</td>\n",
       "      <td>301 COMFORT COURT</td>\n",
       "      <td></td>\n",
       "      <td>COMFORT COURT</td>\n",
       "      <td></td>\n",
       "      <td>301.0</td>\n",
       "      <td>...</td>\n",
       "      <td>None</td>\n",
       "      <td>None</td>\n",
       "      <td>None</td>\n",
       "      <td>None</td>\n",
       "      <td>None</td>\n",
       "      <td>None</td>\n",
       "      <td>None</td>\n",
       "      <td>000</td>\n",
       "      <td>R</td>\n",
       "      <td>None</td>\n",
       "    </tr>\n",
       "    <tr>\n",
       "      <th>1</th>\n",
       "      <td>9000.0</td>\n",
       "      <td>2.0</td>\n",
       "      <td></td>\n",
       "      <td>OWNER NAME</td>\n",
       "      <td>1000010101</td>\n",
       "      <td>1 LIBERTY ISLAND</td>\n",
       "      <td></td>\n",
       "      <td>LIBERTY ISLAND</td>\n",
       "      <td></td>\n",
       "      <td>1.0</td>\n",
       "      <td>...</td>\n",
       "      <td>None</td>\n",
       "      <td>None</td>\n",
       "      <td>None</td>\n",
       "      <td>None</td>\n",
       "      <td>None</td>\n",
       "      <td>None</td>\n",
       "      <td>None</td>\n",
       "      <td>000</td>\n",
       "      <td>R</td>\n",
       "      <td>None</td>\n",
       "    </tr>\n",
       "    <tr>\n",
       "      <th>2</th>\n",
       "      <td>9000.0</td>\n",
       "      <td>3.0</td>\n",
       "      <td>None</td>\n",
       "      <td>OWNER NAME</td>\n",
       "      <td>1000010201</td>\n",
       "      <td>1 ELLIS ISLAND</td>\n",
       "      <td>None</td>\n",
       "      <td>ELLIS ISLAND</td>\n",
       "      <td>None</td>\n",
       "      <td>1.0</td>\n",
       "      <td>...</td>\n",
       "      <td>None</td>\n",
       "      <td>None</td>\n",
       "      <td>None</td>\n",
       "      <td>None</td>\n",
       "      <td>None</td>\n",
       "      <td>None</td>\n",
       "      <td>None</td>\n",
       "      <td>000</td>\n",
       "      <td>R</td>\n",
       "      <td>None</td>\n",
       "    </tr>\n",
       "    <tr>\n",
       "      <th>3</th>\n",
       "      <td>9000.0</td>\n",
       "      <td>4.0</td>\n",
       "      <td>None</td>\n",
       "      <td>OWNER NAME</td>\n",
       "      <td>1000020001</td>\n",
       "      <td>4 SOUTH STREET</td>\n",
       "      <td>None</td>\n",
       "      <td>SOUTH STREET</td>\n",
       "      <td>None</td>\n",
       "      <td>4.0</td>\n",
       "      <td>...</td>\n",
       "      <td>None</td>\n",
       "      <td>None</td>\n",
       "      <td>None</td>\n",
       "      <td>None</td>\n",
       "      <td>None</td>\n",
       "      <td>None</td>\n",
       "      <td>None</td>\n",
       "      <td>000</td>\n",
       "      <td>R</td>\n",
       "      <td>None</td>\n",
       "    </tr>\n",
       "    <tr>\n",
       "      <th>4</th>\n",
       "      <td>9000.0</td>\n",
       "      <td>5.0</td>\n",
       "      <td></td>\n",
       "      <td>OWNER NAME</td>\n",
       "      <td>1000020023</td>\n",
       "      <td>1 PIER 6</td>\n",
       "      <td></td>\n",
       "      <td>PIER 6</td>\n",
       "      <td></td>\n",
       "      <td>1.0</td>\n",
       "      <td>...</td>\n",
       "      <td>None</td>\n",
       "      <td>None</td>\n",
       "      <td>None</td>\n",
       "      <td>None</td>\n",
       "      <td>None</td>\n",
       "      <td>None</td>\n",
       "      <td>None</td>\n",
       "      <td>000</td>\n",
       "      <td>R</td>\n",
       "      <td>None</td>\n",
       "    </tr>\n",
       "  </tbody>\n",
       "</table>\n",
       "<p>5 rows × 81 columns</p>\n",
       "</div>"
      ],
      "text/plain": [
       "   REM_MNC  REM_PID REM_PIN                  REM_OWN_NAME REM_ACCT_NUM  \\\n",
       "0   9000.0      1.0          GOVERNORS ISLAND CORPORATION   1000010010   \n",
       "1   9000.0      2.0                            OWNER NAME   1000010101   \n",
       "2   9000.0      3.0    None                    OWNER NAME   1000010201   \n",
       "3   9000.0      4.0    None                    OWNER NAME   1000020001   \n",
       "4   9000.0      5.0                            OWNER NAME   1000020023   \n",
       "\n",
       "        REM_PRCL_LOCN REM_PRCL_LOCN_STR_PFX REM_PRCL_LOCN_STREET  \\\n",
       "0  301 COMFORT COURT                               COMFORT COURT   \n",
       "1   1 LIBERTY ISLAND                              LIBERTY ISLAND   \n",
       "2      1 ELLIS ISLAND                  None         ELLIS ISLAND   \n",
       "3      4 SOUTH STREET                  None         SOUTH STREET   \n",
       "4           1 PIER 6                                      PIER 6   \n",
       "\n",
       "  REM_PRCL_LOCN_STR_SFX  REM_PRCL_LOCN_NUM  ... REM_PRCL_LOCN_POST_DIRECTION  \\\n",
       "0                                    301.0  ...                         None   \n",
       "1                                      1.0  ...                         None   \n",
       "2                  None                1.0  ...                         None   \n",
       "3                  None                4.0  ...                         None   \n",
       "4                                      1.0  ...                         None   \n",
       "\n",
       "  REM_PRCL_LOCN_PRE_DIRECTION REM_PRCL_LOCN_STREET_TYPE  \\\n",
       "0                        None                      None   \n",
       "1                        None                      None   \n",
       "2                        None                      None   \n",
       "3                        None                      None   \n",
       "4                        None                      None   \n",
       "\n",
       "  REM_PRCL_LOCN_APT_TYPE REM_USRFLD REM_USRFLD_DESC REM_PRCL_LOCN_ADDRESS_ID  \\\n",
       "0                   None       None            None                     None   \n",
       "1                   None       None            None                     None   \n",
       "2                   None       None            None                     None   \n",
       "3                   None       None            None                     None   \n",
       "4                   None       None            None                     None   \n",
       "\n",
       "  REM_BLOCK_SUFFIX REM_PROPERTY_TYPE REM_PROPERTY_TYPE_DESC  \n",
       "0              000                 R                   None  \n",
       "1              000                 R                   None  \n",
       "2              000                 R                   None  \n",
       "3              000                 R                   None  \n",
       "4              000                 R                   None  \n",
       "\n",
       "[5 rows x 81 columns]"
      ]
     },
     "execution_count": 8,
     "metadata": {},
     "output_type": "execute_result"
    }
   ],
   "source": [
    "realmast_top100.head()"
   ]
  },
  {
   "cell_type": "markdown",
   "metadata": {},
   "source": [
    "Great! Now let's try a slightly more complicated query using some environmental variables.\n",
    "\n",
    "[F strings](https://www.geeksforgeeks.org/formatted-string-literals-f-strings-python/) are helpful to drop in variables within a string (like a fiscal year or BCAT) using curly brackets, making it a more legible query than using paste()."
   ]
  },
  {
   "cell_type": "code",
   "execution_count": 9,
   "metadata": {},
   "outputs": [],
   "source": [
    "prior_FY=2025\n",
    "\n",
    "incdata_query = \\\n",
    "    f\"\"\"\n",
    "    Select ILA_Pid as Pid,\n",
    "        ILA_AGI as AGI,\n",
    "        ILA_AGI_PGSF as Inc_PGSF,\n",
    "        ILA_Adj_Exp as AdjExp,\n",
    "        ILA_Adj_Exp_PGSF as Exp_PGSF,\n",
    "        ILA_Adj_EXP_PGI as ExpRatio,\n",
    "        ILA_Adj_NOI as NOI,\n",
    "        ILA_ADJ_NOI_PGSF as NOI_Pgsf,\n",
    "        ILA_Tot_cap_rate as TotCap,\n",
    "        ILA_Inc_Val as FY26_MV,\n",
    "        ILA_Tot_Val as Tot_Val,\n",
    "        ILF_BLDG_CAT as BCAT,\n",
    "        ILF_Bldg_Sub_Cat as Subcat\n",
    "    From \n",
    "        Real_Prop.INCOME_LF_APPROACH, \n",
    "        Real_Prop.Income_LF\n",
    "    Where ILA_Type='R' And ILA_Year={prior_FY} \n",
    "        and ilf_year={prior_FY} and ilf_pid=ila_pid\n",
    "    \"\"\""
   ]
  },
  {
   "cell_type": "markdown",
   "metadata": {},
   "source": [
    "We can check if it included our variables correctly by printing it:"
   ]
  },
  {
   "cell_type": "code",
   "execution_count": 10,
   "metadata": {},
   "outputs": [
    {
     "name": "stdout",
     "output_type": "stream",
     "text": [
      "\n",
      "    Select ILA_Pid as Pid,\n",
      "        ILA_AGI as AGI,\n",
      "        ILA_AGI_PGSF as Inc_PGSF,\n",
      "        ILA_Adj_Exp as AdjExp,\n",
      "        ILA_Adj_Exp_PGSF as Exp_PGSF,\n",
      "        ILA_Adj_EXP_PGI as ExpRatio,\n",
      "        ILA_Adj_NOI as NOI,\n",
      "        ILA_ADJ_NOI_PGSF as NOI_Pgsf,\n",
      "        ILA_Tot_cap_rate as TotCap,\n",
      "        ILA_Inc_Val as FY26_MV,\n",
      "        ILA_Tot_Val as Tot_Val,\n",
      "        ILF_BLDG_CAT as BCAT,\n",
      "        ILF_Bldg_Sub_Cat as Subcat\n",
      "    From \n",
      "        Real_Prop.INCOME_LF_APPROACH, \n",
      "        Real_Prop.Income_LF\n",
      "    Where ILA_Type='R' And ILA_Year=2025 \n",
      "        and ilf_year=2025 and ilf_pid=ila_pid\n",
      "    \n"
     ]
    }
   ],
   "source": [
    "print(incdata_query)"
   ]
  },
  {
   "cell_type": "markdown",
   "metadata": {},
   "source": [
    "Great! Now let's query our test database for this income data."
   ]
  },
  {
   "cell_type": "code",
   "execution_count": 11,
   "metadata": {},
   "outputs": [],
   "source": [
    "income = pd.read_sql(sql=incdata_query, con=cnxn)"
   ]
  },
  {
   "cell_type": "markdown",
   "metadata": {},
   "source": [
    "Let's take a look at the results:"
   ]
  },
  {
   "cell_type": "code",
   "execution_count": 13,
   "metadata": {},
   "outputs": [
    {
     "data": {
      "text/html": [
       "<div>\n",
       "<style scoped>\n",
       "    .dataframe tbody tr th:only-of-type {\n",
       "        vertical-align: middle;\n",
       "    }\n",
       "\n",
       "    .dataframe tbody tr th {\n",
       "        vertical-align: top;\n",
       "    }\n",
       "\n",
       "    .dataframe thead th {\n",
       "        text-align: right;\n",
       "    }\n",
       "</style>\n",
       "<table border=\"1\" class=\"dataframe\">\n",
       "  <thead>\n",
       "    <tr style=\"text-align: right;\">\n",
       "      <th></th>\n",
       "      <th>Pid</th>\n",
       "      <th>AGI</th>\n",
       "      <th>Inc_PGSF</th>\n",
       "      <th>AdjExp</th>\n",
       "      <th>Exp_PGSF</th>\n",
       "      <th>ExpRatio</th>\n",
       "      <th>NOI</th>\n",
       "      <th>NOI_Pgsf</th>\n",
       "      <th>TotCap</th>\n",
       "      <th>FY26_MV</th>\n",
       "      <th>Tot_Val</th>\n",
       "      <th>BCAT</th>\n",
       "      <th>Subcat</th>\n",
       "    </tr>\n",
       "  </thead>\n",
       "  <tbody>\n",
       "    <tr>\n",
       "      <th>0</th>\n",
       "      <td>8001.0</td>\n",
       "      <td>0.0</td>\n",
       "      <td>0.00</td>\n",
       "      <td>0.0</td>\n",
       "      <td>0.00</td>\n",
       "      <td>0.0000</td>\n",
       "      <td>0.0</td>\n",
       "      <td>0.00</td>\n",
       "      <td>14.903</td>\n",
       "      <td>0.0</td>\n",
       "      <td>0.0</td>\n",
       "      <td>SP10</td>\n",
       "      <td>1</td>\n",
       "    </tr>\n",
       "    <tr>\n",
       "      <th>1</th>\n",
       "      <td>8006.0</td>\n",
       "      <td>2888590.0</td>\n",
       "      <td>37.52</td>\n",
       "      <td>948492.0</td>\n",
       "      <td>12.32</td>\n",
       "      <td>32.8358</td>\n",
       "      <td>1940098.0</td>\n",
       "      <td>25.20</td>\n",
       "      <td>12.546</td>\n",
       "      <td>15463877.0</td>\n",
       "      <td>15464000.0</td>\n",
       "      <td>RU32</td>\n",
       "      <td>1</td>\n",
       "    </tr>\n",
       "    <tr>\n",
       "      <th>2</th>\n",
       "      <td>8016.0</td>\n",
       "      <td>285246.0</td>\n",
       "      <td>36.57</td>\n",
       "      <td>46800.0</td>\n",
       "      <td>6.00</td>\n",
       "      <td>16.4069</td>\n",
       "      <td>238446.0</td>\n",
       "      <td>30.57</td>\n",
       "      <td>16.023</td>\n",
       "      <td>1488148.0</td>\n",
       "      <td>1488000.0</td>\n",
       "      <td>K131</td>\n",
       "      <td>M</td>\n",
       "    </tr>\n",
       "    <tr>\n",
       "      <th>3</th>\n",
       "      <td>8216.0</td>\n",
       "      <td>0.0</td>\n",
       "      <td>0.00</td>\n",
       "      <td>0.0</td>\n",
       "      <td>0.00</td>\n",
       "      <td>0.0000</td>\n",
       "      <td>0.0</td>\n",
       "      <td>0.00</td>\n",
       "      <td>16.843</td>\n",
       "      <td>0.0</td>\n",
       "      <td>0.0</td>\n",
       "      <td>H001</td>\n",
       "      <td>CA</td>\n",
       "    </tr>\n",
       "    <tr>\n",
       "      <th>4</th>\n",
       "      <td>8326.0</td>\n",
       "      <td>61342531.0</td>\n",
       "      <td>53.14</td>\n",
       "      <td>28593423.0</td>\n",
       "      <td>24.77</td>\n",
       "      <td>46.6127</td>\n",
       "      <td>32749108.0</td>\n",
       "      <td>28.37</td>\n",
       "      <td>14.323</td>\n",
       "      <td>228646987.0</td>\n",
       "      <td>228647000.0</td>\n",
       "      <td>O007</td>\n",
       "      <td>1</td>\n",
       "    </tr>\n",
       "  </tbody>\n",
       "</table>\n",
       "</div>"
      ],
      "text/plain": [
       "      Pid         AGI  Inc_PGSF      AdjExp  Exp_PGSF  ExpRatio         NOI  \\\n",
       "0  8001.0         0.0      0.00         0.0      0.00    0.0000         0.0   \n",
       "1  8006.0   2888590.0     37.52    948492.0     12.32   32.8358   1940098.0   \n",
       "2  8016.0    285246.0     36.57     46800.0      6.00   16.4069    238446.0   \n",
       "3  8216.0         0.0      0.00         0.0      0.00    0.0000         0.0   \n",
       "4  8326.0  61342531.0     53.14  28593423.0     24.77   46.6127  32749108.0   \n",
       "\n",
       "   NOI_Pgsf  TotCap      FY26_MV      Tot_Val  BCAT Subcat  \n",
       "0      0.00  14.903          0.0          0.0  SP10      1  \n",
       "1     25.20  12.546   15463877.0   15464000.0  RU32      1  \n",
       "2     30.57  16.023    1488148.0    1488000.0  K131      M  \n",
       "3      0.00  16.843          0.0          0.0  H001     CA  \n",
       "4     28.37  14.323  228646987.0  228647000.0  O007      1  "
      ]
     },
     "execution_count": 13,
     "metadata": {},
     "output_type": "execute_result"
    }
   ],
   "source": [
    "income.head()"
   ]
  },
  {
   "cell_type": "markdown",
   "metadata": {},
   "source": [
    "Now we can analyze the data easily within Python using pandas or other libraries or and re-run the same import script to get updated data without needing to handle any CSVs.\n",
    "\n",
    "Once you are done with reading in data from the database, close the connection by doing the following:"
   ]
  },
  {
   "cell_type": "code",
   "execution_count": 12,
   "metadata": {},
   "outputs": [],
   "source": [
    "cnxn.close()"
   ]
  },
  {
   "cell_type": "markdown",
   "metadata": {},
   "source": [
    "### Connecting to Oracle Databases (FDW, PTS)"
   ]
  },
  {
   "cell_type": "markdown",
   "metadata": {},
   "source": [
    "This process to connecting to the Oracle dataabse is very similar to the above, but we have to pass in slightly different parameters. Just like when we make a connection to FDW in SAS, we need the database path, schema, username and password to access the database. Before moving forward, add the following to your `.Renviron` file like the following:\n",
    "\n",
    "```\n",
    "fdw_username=XXXXXXXXXX\n",
    "fdw_password=XXXXXXXXXX\n",
    "fdw_path=XXXXXXXX\n",
    "fdw_schema=XXXXXXXXXX\n",
    "\n",
    "pts_username=XXXXXXXXXXXX\n",
    "pts_password=XXXXXXXXXXX\n",
    "pts_path=XXXXXXXXXXXXX\n",
    "pts_schema=XXXXXXXX\n",
    "```\n",
    "\n",
    "Restart your kernel and re-read in your new environmental variables. "
   ]
  },
  {
   "cell_type": "code",
   "execution_count": 13,
   "metadata": {},
   "outputs": [
    {
     "data": {
      "text/plain": [
       "True"
      ]
     },
     "execution_count": 13,
     "metadata": {},
     "output_type": "execute_result"
    }
   ],
   "source": [
    "load_dotenv(find_dotenv(\"C:/Users/BoydClaire/.Renviron\"))"
   ]
  },
  {
   "cell_type": "markdown",
   "metadata": {},
   "source": [
    "To check if we can re-read them in successfully, you can try the following:"
   ]
  },
  {
   "cell_type": "code",
   "execution_count": 14,
   "metadata": {},
   "outputs": [
    {
     "data": {
      "text/plain": [
       "'fdw3nf'"
      ]
     },
     "execution_count": 14,
     "metadata": {},
     "output_type": "execute_result"
    }
   ],
   "source": [
    "os.getenv(\"fdw_schema\")"
   ]
  },
  {
   "cell_type": "markdown",
   "metadata": {},
   "source": [
    "Using these credentials, we can use the same `pyodbc` package to create a connection to the Oracle database."
   ]
  },
  {
   "cell_type": "code",
   "execution_count": 15,
   "metadata": {},
   "outputs": [],
   "source": [
    "# build connection string\n",
    "database = \"fdw\"\n",
    "database_schema = os.getenv(f\"{database}_schema\")\n",
    "\n",
    "connection_args = [\"Driver={Oracle in OraClient19Home1};\",\n",
    "                    f\"DBQ={os.environ[f'{database}_path']};\"\n",
    "                    f\"DATABASE={os.environ[f'{database}_schema']};\"\n",
    "                    f\"UID={os.environ[f'{database}_username']};\",\n",
    "                    f\"PWD={os.environ[f'{database}_password']};\",\n",
    "                    f\"Trusted_Connection=no;\",\n",
    "                    \"Port=1433\"\n",
    "]\n",
    "connection_string = \"\".join(connection_args)\n",
    "\n",
    "# create connection object\n",
    "cnxn = pyodbc.connect(connection_string)"
   ]
  },
  {
   "cell_type": "markdown",
   "metadata": {},
   "source": [
    "To explore what tables are in the database, we can do the following:"
   ]
  },
  {
   "cell_type": "code",
   "execution_count": 16,
   "metadata": {},
   "outputs": [],
   "source": [
    "cursor = cnxn.cursor()\n",
    "tables_raw = cursor.tables(schema='FDW3NF')\n",
    "tables = pd.DataFrame(tables_raw)\n",
    "tables.columns = ['list']\n",
    "cleaned_tables = pd.DataFrame(tables['list'].apply(list).to_list(), columns = ['CATALOG','SCHEMA','NAME','TYPE','SELF_REFERENCING_COL_NAME'])"
   ]
  },
  {
   "cell_type": "code",
   "execution_count": 17,
   "metadata": {},
   "outputs": [
    {
     "data": {
      "text/html": [
       "<div>\n",
       "<style scoped>\n",
       "    .dataframe tbody tr th:only-of-type {\n",
       "        vertical-align: middle;\n",
       "    }\n",
       "\n",
       "    .dataframe tbody tr th {\n",
       "        vertical-align: top;\n",
       "    }\n",
       "\n",
       "    .dataframe thead th {\n",
       "        text-align: right;\n",
       "    }\n",
       "</style>\n",
       "<table border=\"1\" class=\"dataframe\">\n",
       "  <thead>\n",
       "    <tr style=\"text-align: right;\">\n",
       "      <th></th>\n",
       "      <th>CATALOG</th>\n",
       "      <th>SCHEMA</th>\n",
       "      <th>NAME</th>\n",
       "      <th>TYPE</th>\n",
       "      <th>SELF_REFERENCING_COL_NAME</th>\n",
       "    </tr>\n",
       "  </thead>\n",
       "  <tbody>\n",
       "    <tr>\n",
       "      <th>0</th>\n",
       "      <td>None</td>\n",
       "      <td>FDW3NF</td>\n",
       "      <td>CAMA_SALEHIST_HIST</td>\n",
       "      <td>TABLE</td>\n",
       "      <td>None</td>\n",
       "    </tr>\n",
       "    <tr>\n",
       "      <th>1</th>\n",
       "      <td>None</td>\n",
       "      <td>FDW3NF</td>\n",
       "      <td>VW_CAMA_ABATEMENT</td>\n",
       "      <td>VIEW</td>\n",
       "      <td>None</td>\n",
       "    </tr>\n",
       "    <tr>\n",
       "      <th>2</th>\n",
       "      <td>None</td>\n",
       "      <td>FDW3NF</td>\n",
       "      <td>VW_CAMA_AHDATE</td>\n",
       "      <td>VIEW</td>\n",
       "      <td>None</td>\n",
       "    </tr>\n",
       "    <tr>\n",
       "      <th>3</th>\n",
       "      <td>None</td>\n",
       "      <td>FDW3NF</td>\n",
       "      <td>VW_CAMA_BLDG</td>\n",
       "      <td>VIEW</td>\n",
       "      <td>None</td>\n",
       "    </tr>\n",
       "    <tr>\n",
       "      <th>4</th>\n",
       "      <td>None</td>\n",
       "      <td>FDW3NF</td>\n",
       "      <td>VW_CAMA_BLDG_HIST</td>\n",
       "      <td>VIEW</td>\n",
       "      <td>None</td>\n",
       "    </tr>\n",
       "  </tbody>\n",
       "</table>\n",
       "</div>"
      ],
      "text/plain": [
       "  CATALOG  SCHEMA                NAME   TYPE SELF_REFERENCING_COL_NAME\n",
       "0    None  FDW3NF  CAMA_SALEHIST_HIST  TABLE                      None\n",
       "1    None  FDW3NF   VW_CAMA_ABATEMENT   VIEW                      None\n",
       "2    None  FDW3NF      VW_CAMA_AHDATE   VIEW                      None\n",
       "3    None  FDW3NF        VW_CAMA_BLDG   VIEW                      None\n",
       "4    None  FDW3NF   VW_CAMA_BLDG_HIST   VIEW                      None"
      ]
     },
     "execution_count": 17,
     "metadata": {},
     "output_type": "execute_result"
    }
   ],
   "source": [
    "cleaned_tables.head()"
   ]
  },
  {
   "cell_type": "markdown",
   "metadata": {},
   "source": [
    "This has been helpful for me when trying to map tables in the SQL Server databases back to a table in FDW (e.g. REAL_MAST vs. VW_CAMA_REALMAST).\n",
    "\n",
    "Next, we can repeat the above steps with this database connection. Note: the syntax is a bit different now because we are using Oracle SQL syntax which is slightly different than Microsoft SQL syntax. We also need to use the database schema when naming the tables in order to pull from the right place."
   ]
  },
  {
   "cell_type": "code",
   "execution_count": 21,
   "metadata": {},
   "outputs": [],
   "source": [
    "fdw_query = f\"SELECT * FROM {database_schema}.VW_CAMA_REALMAST WHERE ROWNUM <= 100\"\n",
    "\n",
    "# read in data with query and connection\n",
    "data = pd.read_sql(sql=fdw_query, con=cnxn)"
   ]
  },
  {
   "cell_type": "markdown",
   "metadata": {},
   "source": [
    "Let's check the results:"
   ]
  },
  {
   "cell_type": "code",
   "execution_count": 22,
   "metadata": {},
   "outputs": [
    {
     "data": {
      "text/html": [
       "<div>\n",
       "<style scoped>\n",
       "    .dataframe tbody tr th:only-of-type {\n",
       "        vertical-align: middle;\n",
       "    }\n",
       "\n",
       "    .dataframe tbody tr th {\n",
       "        vertical-align: top;\n",
       "    }\n",
       "\n",
       "    .dataframe thead th {\n",
       "        text-align: right;\n",
       "    }\n",
       "</style>\n",
       "<table border=\"1\" class=\"dataframe\">\n",
       "  <thead>\n",
       "    <tr style=\"text-align: right;\">\n",
       "      <th></th>\n",
       "      <th>REM_MNC</th>\n",
       "      <th>REM_PID</th>\n",
       "      <th>REM_PIN</th>\n",
       "      <th>REM_OWN_NAME</th>\n",
       "      <th>REM_ACCT_NUM</th>\n",
       "      <th>REM_PRCL_LOCN</th>\n",
       "      <th>REM_PRCL_LOCN_STR_PFX</th>\n",
       "      <th>REM_PRCL_LOCN_STREET</th>\n",
       "      <th>REM_PRCL_LOCN_STR_SFX</th>\n",
       "      <th>REM_PRCL_LOCN_NUM</th>\n",
       "      <th>...</th>\n",
       "      <th>REM_TAX_ID</th>\n",
       "      <th>REM_USER_ID</th>\n",
       "      <th>REM_USRFLD</th>\n",
       "      <th>REM_USRFLD_DESC</th>\n",
       "      <th>REM_ACCESS_DATE</th>\n",
       "      <th>REM_CREATE_STAMP</th>\n",
       "      <th>REM_CREATE_DATE</th>\n",
       "      <th>REM_LAST_UPDATE</th>\n",
       "      <th>REM_PROPERTY_TYPE</th>\n",
       "      <th>REM_PROPERTY_TYPE_DESC</th>\n",
       "    </tr>\n",
       "  </thead>\n",
       "  <tbody>\n",
       "    <tr>\n",
       "      <th>0</th>\n",
       "      <td>9000.0</td>\n",
       "      <td>1188590.0</td>\n",
       "      <td>2589</td>\n",
       "      <td>ZHAO, JIATENG</td>\n",
       "      <td>1002481636</td>\n",
       "      <td>250 SOUTH STREET #61J</td>\n",
       "      <td>None</td>\n",
       "      <td>SOUTH STREET</td>\n",
       "      <td>None</td>\n",
       "      <td>250.0</td>\n",
       "      <td>...</td>\n",
       "      <td>None</td>\n",
       "      <td>None</td>\n",
       "      <td>None</td>\n",
       "      <td>None</td>\n",
       "      <td>None</td>\n",
       "      <td>None</td>\n",
       "      <td>2022-06-16 00:59:59</td>\n",
       "      <td>2025-01-04 00:19:14</td>\n",
       "      <td>R</td>\n",
       "      <td>None</td>\n",
       "    </tr>\n",
       "    <tr>\n",
       "      <th>1</th>\n",
       "      <td>9000.0</td>\n",
       "      <td>1188690.0</td>\n",
       "      <td>2589</td>\n",
       "      <td>LUM, SIMON</td>\n",
       "      <td>1002481736</td>\n",
       "      <td>250 SOUTH STREET #70K</td>\n",
       "      <td>None</td>\n",
       "      <td>SOUTH STREET</td>\n",
       "      <td>None</td>\n",
       "      <td>250.0</td>\n",
       "      <td>...</td>\n",
       "      <td>None</td>\n",
       "      <td>None</td>\n",
       "      <td>None</td>\n",
       "      <td>None</td>\n",
       "      <td>None</td>\n",
       "      <td>None</td>\n",
       "      <td>2022-06-16 00:59:59</td>\n",
       "      <td>2025-01-04 00:19:33</td>\n",
       "      <td>R</td>\n",
       "      <td>None</td>\n",
       "    </tr>\n",
       "    <tr>\n",
       "      <th>2</th>\n",
       "      <td>9000.0</td>\n",
       "      <td>1188790.0</td>\n",
       "      <td>0243</td>\n",
       "      <td>HOUNKPATIN, HOSPICE</td>\n",
       "      <td>2023401016</td>\n",
       "      <td>225 EAST 138 STREET #201</td>\n",
       "      <td>None</td>\n",
       "      <td>EAST 138 STREET</td>\n",
       "      <td>None</td>\n",
       "      <td>225.0</td>\n",
       "      <td>...</td>\n",
       "      <td>None</td>\n",
       "      <td>None</td>\n",
       "      <td>None</td>\n",
       "      <td>None</td>\n",
       "      <td>None</td>\n",
       "      <td>None</td>\n",
       "      <td>2022-06-16 00:59:59</td>\n",
       "      <td>2025-01-04 00:19:50</td>\n",
       "      <td>R</td>\n",
       "      <td>None</td>\n",
       "    </tr>\n",
       "    <tr>\n",
       "      <th>3</th>\n",
       "      <td>9000.0</td>\n",
       "      <td>1188939.0</td>\n",
       "      <td>2864</td>\n",
       "      <td>CHANG, SHARON</td>\n",
       "      <td>1021111127</td>\n",
       "      <td>446 WEST 167 STREET #2A</td>\n",
       "      <td>None</td>\n",
       "      <td>WEST 167 STREET</td>\n",
       "      <td>None</td>\n",
       "      <td>446.0</td>\n",
       "      <td>...</td>\n",
       "      <td>None</td>\n",
       "      <td>None</td>\n",
       "      <td>None</td>\n",
       "      <td>None</td>\n",
       "      <td>None</td>\n",
       "      <td>None</td>\n",
       "      <td>2022-06-16 00:59:59</td>\n",
       "      <td>2025-01-04 00:20:05</td>\n",
       "      <td>R</td>\n",
       "      <td>None</td>\n",
       "    </tr>\n",
       "    <tr>\n",
       "      <th>4</th>\n",
       "      <td>9000.0</td>\n",
       "      <td>1189039.0</td>\n",
       "      <td>4441</td>\n",
       "      <td>ZHANG, ZI KUO</td>\n",
       "      <td>3063771111</td>\n",
       "      <td>8616 21 AVENUE #P1</td>\n",
       "      <td>None</td>\n",
       "      <td>21 AVENUE</td>\n",
       "      <td>None</td>\n",
       "      <td>8616.0</td>\n",
       "      <td>...</td>\n",
       "      <td>None</td>\n",
       "      <td>None</td>\n",
       "      <td>None</td>\n",
       "      <td>None</td>\n",
       "      <td>None</td>\n",
       "      <td>None</td>\n",
       "      <td>2022-06-16 00:59:59</td>\n",
       "      <td>2025-01-04 00:20:22</td>\n",
       "      <td>R</td>\n",
       "      <td>None</td>\n",
       "    </tr>\n",
       "  </tbody>\n",
       "</table>\n",
       "<p>5 rows × 81 columns</p>\n",
       "</div>"
      ],
      "text/plain": [
       "   REM_MNC    REM_PID REM_PIN         REM_OWN_NAME REM_ACCT_NUM  \\\n",
       "0   9000.0  1188590.0    2589        ZHAO, JIATENG   1002481636   \n",
       "1   9000.0  1188690.0    2589           LUM, SIMON   1002481736   \n",
       "2   9000.0  1188790.0    0243  HOUNKPATIN, HOSPICE   2023401016   \n",
       "3   9000.0  1188939.0    2864        CHANG, SHARON   1021111127   \n",
       "4   9000.0  1189039.0    4441        ZHANG, ZI KUO   3063771111   \n",
       "\n",
       "              REM_PRCL_LOCN REM_PRCL_LOCN_STR_PFX REM_PRCL_LOCN_STREET  \\\n",
       "0     250 SOUTH STREET #61J                  None         SOUTH STREET   \n",
       "1     250 SOUTH STREET #70K                  None         SOUTH STREET   \n",
       "2  225 EAST 138 STREET #201                  None      EAST 138 STREET   \n",
       "3   446 WEST 167 STREET #2A                  None      WEST 167 STREET   \n",
       "4        8616 21 AVENUE #P1                  None            21 AVENUE   \n",
       "\n",
       "  REM_PRCL_LOCN_STR_SFX  REM_PRCL_LOCN_NUM  ... REM_TAX_ID REM_USER_ID  \\\n",
       "0                  None              250.0  ...       None        None   \n",
       "1                  None              250.0  ...       None        None   \n",
       "2                  None              225.0  ...       None        None   \n",
       "3                  None              446.0  ...       None        None   \n",
       "4                  None             8616.0  ...       None        None   \n",
       "\n",
       "  REM_USRFLD REM_USRFLD_DESC REM_ACCESS_DATE REM_CREATE_STAMP  \\\n",
       "0       None            None            None             None   \n",
       "1       None            None            None             None   \n",
       "2       None            None            None             None   \n",
       "3       None            None            None             None   \n",
       "4       None            None            None             None   \n",
       "\n",
       "      REM_CREATE_DATE     REM_LAST_UPDATE REM_PROPERTY_TYPE  \\\n",
       "0 2022-06-16 00:59:59 2025-01-04 00:19:14                 R   \n",
       "1 2022-06-16 00:59:59 2025-01-04 00:19:33                 R   \n",
       "2 2022-06-16 00:59:59 2025-01-04 00:19:50                 R   \n",
       "3 2022-06-16 00:59:59 2025-01-04 00:20:05                 R   \n",
       "4 2022-06-16 00:59:59 2025-01-04 00:20:22                 R   \n",
       "\n",
       "  REM_PROPERTY_TYPE_DESC  \n",
       "0                   None  \n",
       "1                   None  \n",
       "2                   None  \n",
       "3                   None  \n",
       "4                   None  \n",
       "\n",
       "[5 rows x 81 columns]"
      ]
     },
     "execution_count": 22,
     "metadata": {},
     "output_type": "execute_result"
    }
   ],
   "source": [
    "data.head()"
   ]
  },
  {
   "cell_type": "markdown",
   "metadata": {},
   "source": [
    "Great! This looks very similar to our call to the test database. Now we can pretty much interchangeably get data into R from either database resource and analyze it as needed all in once place.\n",
    "\n",
    "Now that we are done, let's close the database connection."
   ]
  },
  {
   "cell_type": "code",
   "execution_count": 23,
   "metadata": {},
   "outputs": [],
   "source": [
    "cnxn.close()"
   ]
  }
 ],
 "metadata": {
  "kernelspec": {
   "display_name": "Python 3",
   "language": "python",
   "name": "python3"
  },
  "language_info": {
   "codemirror_mode": {
    "name": "ipython",
    "version": 3
   },
   "file_extension": ".py",
   "mimetype": "text/x-python",
   "name": "python",
   "nbconvert_exporter": "python",
   "pygments_lexer": "ipython3",
   "version": "3.9.1"
  }
 },
 "nbformat": 4,
 "nbformat_minor": 2
}
